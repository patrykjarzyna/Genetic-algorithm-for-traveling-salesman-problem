

# This Python 3 environment comes with many helpful analytics libraries installed
# It is defined by the kaggle/python docker image: https://github.com/kaggle/docker-python
# For example, here's several helpful packages to load in 

import numpy as np # linear algebra
import pandas as pd # data processing, CSV file I/O (e.g. pd.read_csv)

# Input data files are available in the "../input/" directory.
# For example, running this (by clicking run or pressing Shift+Enter) will list the files in the input directory

import os
print(os.listdir("../input"))

# Any results you write to the current directory are saved as output.
# This Python 3 environment comes with many helpful analytics libraries installed
# It is defined by the kaggle/python docker image: https://github.com/kaggle/docker-python
# For example, here's several helpful packages to load in 
​
import numpy as np # linear algebra
import pandas as pd # data processing, CSV file I/O (e.g. pd.read_csv)
​
# Input data files are available in the "../input/" directory.
# For example, running this (by clicking run or pressing Shift+Enter) will list the files in the input directory
​
import os
print(os.listdir("../input"))
​
# Any results you write to the current directory are saved as output.
Loading data


file_path = "../input/cities.csv"
cities = pd.read_csv(file_path)
cities.head(20)
CityId	X	Y
0	0	316.836739	2202.340707
1	1	4377.405972	336.602082
2	2	3454.158198	2820.053011
3	3	4688.099298	2935.898056
4	4	1010.696952	3236.750989
5	5	2474.230877	1435.514651
6	6	1029.277795	2721.800952
7	7	3408.887685	199.585793
8	8	1304.006125	2657.427246
9	9	4211.525725	2294.595208
10	10	297.575458	1952.548486
11	11	2052.116500	578.293526
12	12	2645.077176	2717.838772
13	13	965.611152	1067.734281
14	14	454.988723	1217.670993
15	15	3369.344927	1504.603740
16	16	4944.059453	2326.338189
17	17	4313.207563	2800.438423
18	18	2352.743647	2489.939529
19	19	3033.179607	515.217613

#number of cities to visit
cities_number = max(cities.CityId)
Prime cities


cities
"""Taging prime cities"""
def is_prime(cities_number):  
    
    # Initialize a list
    primes = []
    primes.append(0)
    primes.append(0)
    for possiblePrime in range(2, cities_number):
        # Assume number is prime until shown it is not. 
        isPrime = True
        for num in range(2, int(possiblePrime ** 0.5) + 1):
            if possiblePrime % num == 0:
                isPrime = False
                break
        if isPrime:
            primes.append(1)
        else:
            primes.append(0)
    return(primes)

i
cities['prime'] = is_prime(cities_number + 1)
cities.head(20)
CityId	X	Y	prime
0	0	316.836739	2202.340707	0
1	1	4377.405972	336.602082	0
2	2	3454.158198	2820.053011	1
3	3	4688.099298	2935.898056	1
4	4	1010.696952	3236.750989	0
5	5	2474.230877	1435.514651	1
6	6	1029.277795	2721.800952	0
7	7	3408.887685	199.585793	1
8	8	1304.006125	2657.427246	0
9	9	4211.525725	2294.595208	0
10	10	297.575458	1952.548486	0
11	11	2052.116500	578.293526	1
12	12	2645.077176	2717.838772	0
13	13	965.611152	1067.734281	1
14	14	454.988723	1217.670993	0
15	15	3369.344927	1504.603740	0
16	16	4944.059453	2326.338189	0
17	17	4313.207563	2800.438423	1
18	18	2352.743647	2489.939529	0
19	19	3033.179607	515.217613	1
Path evaluation


"""Vectorized path evaluation"""
def evaluate(path):
    path_df = cities.reindex(path).reset_index()
    path_df['step'] = np.sqrt((path_df.X - path_df.X.shift())**2 + (path_df.Y - path_df.Y.shift())**2)
    path_df['step_adj'] = np.where((path_df.index) % 10 != 0, path_df.step, path_df.step + 
                            path_df.step*0.1*(~path_df.prime.values))
    return path_df.step_adj.sum()

evaluate(cities.CityId.values)
438977296.67069626
Genetic algorithm implementation


"""create random route"""
def create_path(initial_path):
    path = initial_path.sample(frac=1)
    return path

"""create initial population"""
def create_population(population_number, initial_path):
    population = []
​
    for i in range(0, population_number):
        path = create_path(initial_path)
        population.append(path)
    
    return population

"""Paths evaluation"""
def 
24917      24917
90884      90884
146650    146650
193267    193267
100308    100308
124056    124056
102926    102926
68353      68353
147447    147447
2052        2052
26366      26366
151750    151750
89214      89214
55395      55395
12474      12474
117539    117539
180045    180045
74083      74083
162108    162108
162142    162142
108045    108045
104118    104118
165812    165812
146556    146556
181215    181215
110687    110687
43476      43476
113943    113943
75261      75261
187405    187405
           ...  
83394      83394
31207      31207
87339      87339
14336      14336
93461      93461
50464      50464
130202    130202
170085    170085
85231      85231
3397        3397
19228      19228
157070    157070
76478      76478
6425        6425
80961      80961
167669    167669
96062      96062
185339    185339
177263    177263
40799      40799
145594    145594
66628      66628
163423    163423
113338    113338
181768    181768
70524      70524
73756      73756
133761    133761
194166    194166
94144      94144
Name: CityId, Length: 197769, dtype: int64

​
